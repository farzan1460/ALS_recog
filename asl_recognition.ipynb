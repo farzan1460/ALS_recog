{
 "cells": [
  {
   "cell_type": "code",
   "execution_count": null,
   "id": "1e08dca1",
   "metadata": {},
   "outputs": [],
   "source": [
    "import numpy as np\n",
    "import matplotlib.pyplot as plt\n",
    "from tqdm import tqdm\n",
    "import pandas as pd\n",
    "import cv2\n",
    "from sklearn.model_selection import train_test_split\n",
    "import skimage\n",
    "from skimage.transform import resize\n",
    "import seaborn as sns\n",
    "import glob\n",
    "import os\n",
    "import string\n",
    "\n",
    "import tensorflow as tf\n",
    "from tensorflow.keras.layers import Conv2D,MaxPool2D,Dropout,Activation\n",
    "from keras.preprocessing.image import ImageDataGenerator"
   ]
  },
  {
   "cell_type": "code",
   "execution_count": null,
   "id": "5283553d",
   "metadata": {},
   "outputs": [],
   "source": [
    "path = \"C:/Deep learning/Datasets/asl_alphabet_train/asl_alphabet_train\"\n",
    "categories = list(string.ascii_uppercase[0:27]) + [\"del\", \"nothing\", \"space\"]\n",
    "#categories = categories.append()\n",
    "print(type(categories))\n",
    "print(categories)"
   ]
  },
  {
   "cell_type": "code",
   "execution_count": null,
   "id": "f3fcfa84",
   "metadata": {},
   "outputs": [],
   "source": [
    "for cat in categories:\n",
    "    path = os.path.join(path, cat)\n",
    "    for img in os.listdir(path):\n",
    "        img_arr = cv2.imread(os.path.join(path, img), cv2.IMREAD_GRAYSCALE)\n",
    "        plt.imshow(img_arr)\n",
    "        plt.show()\n",
    "        break\n",
    "    break"
   ]
  },
  {
   "cell_type": "code",
   "execution_count": null,
   "id": "a38df2c3",
   "metadata": {},
   "outputs": [],
   "source": [
    "IMG_SIZE = (224, 224)"
   ]
  },
  {
   "cell_type": "code",
   "execution_count": null,
   "id": "80b4527b",
   "metadata": {},
   "outputs": [],
   "source": [
    "new_arr = cv2.resize(img_arr, IMG_SIZE)\n",
    "plt.imshow(new_arr)\n",
    "plt.show()"
   ]
  },
  {
   "cell_type": "code",
   "execution_count": null,
   "id": "39ae0a6f",
   "metadata": {},
   "outputs": [],
   "source": [
    "training_path = \"C:/Deep learning/Datasets/asl_alphabet_train/asl_alphabet_train\"\n",
    "X_train = []\n",
    "y_train = []\n",
    "def map_data():\n",
    "    for cat in categories:\n",
    "        path = os.path.join(training_path, cat)\n",
    "        class_num = categories.index(cat)\n",
    "        for img in os.listdir(path):\n",
    "            img_arr = cv2.imread(os.path.join(path, img), cv2.IMREAD_GRAYSCALE)\n",
    "            new_arr = cv2.resize(img_arr, IMG_SIZE)\n",
    "            X_train.append(new_arr)\n",
    "            y_train.append(class_num)\n",
    "\n",
    "map_data()"
   ]
  },
  {
   "cell_type": "code",
   "execution_count": null,
   "id": "309b4fc6",
   "metadata": {
    "scrolled": true
   },
   "outputs": [],
   "source": [
    "print(len(X_train))\n",
    "print(len(y_train))"
   ]
  },
  {
   "cell_type": "code",
   "execution_count": null,
   "id": "1c1413c5",
   "metadata": {},
   "outputs": [],
   "source": [
    "X_train = np.array(X_train).reshape(-1, IMG_SIZE, 1)"
   ]
  },
  {
   "cell_type": "code",
   "execution_count": null,
   "id": "c29fba62",
   "metadata": {},
   "outputs": [],
   "source": [
    "X_train, X_test, y_train, y_test = train_test_split(X_train, y_train, test_size = 0.2, random_state = 1)"
   ]
  },
  {
   "cell_type": "code",
   "execution_count": null,
   "id": "ebc2af2b",
   "metadata": {},
   "outputs": [],
   "source": []
  }
 ],
 "metadata": {
  "kernelspec": {
   "display_name": "Python 3 (ipykernel)",
   "language": "python",
   "name": "python3"
  },
  "language_info": {
   "codemirror_mode": {
    "name": "ipython",
    "version": 3
   },
   "file_extension": ".py",
   "mimetype": "text/x-python",
   "name": "python",
   "nbconvert_exporter": "python",
   "pygments_lexer": "ipython3",
   "version": "3.9.7"
  }
 },
 "nbformat": 4,
 "nbformat_minor": 5
}
